{
  "nbformat": 4,
  "nbformat_minor": 0,
  "metadata": {
    "colab": {
      "name": "MSFT_RandomForestClassifier.ipynb",
      "provenance": []
    },
    "kernelspec": {
      "name": "python3",
      "display_name": "Python 3"
    },
    "language_info": {
      "name": "python"
    }
  },
  "cells": [
    {
      "cell_type": "code",
      "execution_count": null,
      "metadata": {
        "id": "ccdOC1VxxwBt"
      },
      "outputs": [],
      "source": [
        "import numpy as np\n",
        "import pandas as pd\n",
        "import time\n",
        "import datetime\n",
        "from sklearn.model_selection import train_test_split\n",
        "from sklearn.metrics import classification_report,plot_confusion_matrix\n",
        "from sklearn.metrics import plot_roc_curve\n",
        "from sklearn.ensemble import RandomForestClassifier\n",
        "import matplotlib.pyplot as plt\n",
        "from sklearn import metrics\n",
        "import pickle"
      ]
    },
    {
      "cell_type": "code",
      "source": [
        "ticker = 'MSFT'\n",
        "period1 = int(time.mktime(datetime.datetime(2010, 1, 1, 23, 59).timetuple()))\n",
        "period2 = int(time.mktime(datetime.datetime(2022, 1, 10, 23, 59).timetuple()))\n",
        "interval = '1d'\n",
        "query_string = f'https://query1.finance.yahoo.com/v7/finance/download/{ticker}?period1={period1}&period2={period2}&interval={interval}&events=history&includeAdjustedClose=true'\n",
        "data = pd.read_csv(query_string)\n",
        "data"
      ],
      "metadata": {
        "colab": {
          "base_uri": "https://localhost:8080/",
          "height": 424
        },
        "id": "WGHFCCBByAda",
        "outputId": "570f8e1d-738c-4956-dbe9-2b58563a84aa"
      },
      "execution_count": null,
      "outputs": [
        {
          "output_type": "execute_result",
          "data": {
            "text/html": [
              "\n",
              "  <div id=\"df-5ac6554d-2e2a-43fa-a2cb-7ddf8c3af900\">\n",
              "    <div class=\"colab-df-container\">\n",
              "      <div>\n",
              "<style scoped>\n",
              "    .dataframe tbody tr th:only-of-type {\n",
              "        vertical-align: middle;\n",
              "    }\n",
              "\n",
              "    .dataframe tbody tr th {\n",
              "        vertical-align: top;\n",
              "    }\n",
              "\n",
              "    .dataframe thead th {\n",
              "        text-align: right;\n",
              "    }\n",
              "</style>\n",
              "<table border=\"1\" class=\"dataframe\">\n",
              "  <thead>\n",
              "    <tr style=\"text-align: right;\">\n",
              "      <th></th>\n",
              "      <th>Date</th>\n",
              "      <th>Open</th>\n",
              "      <th>High</th>\n",
              "      <th>Low</th>\n",
              "      <th>Close</th>\n",
              "      <th>Adj Close</th>\n",
              "      <th>Volume</th>\n",
              "    </tr>\n",
              "  </thead>\n",
              "  <tbody>\n",
              "    <tr>\n",
              "      <th>0</th>\n",
              "      <td>2010-01-04</td>\n",
              "      <td>30.620001</td>\n",
              "      <td>31.100000</td>\n",
              "      <td>30.590000</td>\n",
              "      <td>30.950001</td>\n",
              "      <td>23.904980</td>\n",
              "      <td>38409100</td>\n",
              "    </tr>\n",
              "    <tr>\n",
              "      <th>1</th>\n",
              "      <td>2010-01-05</td>\n",
              "      <td>30.850000</td>\n",
              "      <td>31.100000</td>\n",
              "      <td>30.639999</td>\n",
              "      <td>30.959999</td>\n",
              "      <td>23.912703</td>\n",
              "      <td>49749600</td>\n",
              "    </tr>\n",
              "    <tr>\n",
              "      <th>2</th>\n",
              "      <td>2010-01-06</td>\n",
              "      <td>30.879999</td>\n",
              "      <td>31.080000</td>\n",
              "      <td>30.520000</td>\n",
              "      <td>30.770000</td>\n",
              "      <td>23.765955</td>\n",
              "      <td>58182400</td>\n",
              "    </tr>\n",
              "    <tr>\n",
              "      <th>3</th>\n",
              "      <td>2010-01-07</td>\n",
              "      <td>30.629999</td>\n",
              "      <td>30.700001</td>\n",
              "      <td>30.190001</td>\n",
              "      <td>30.450001</td>\n",
              "      <td>23.518799</td>\n",
              "      <td>50559700</td>\n",
              "    </tr>\n",
              "    <tr>\n",
              "      <th>4</th>\n",
              "      <td>2010-01-08</td>\n",
              "      <td>30.280001</td>\n",
              "      <td>30.879999</td>\n",
              "      <td>30.240000</td>\n",
              "      <td>30.660000</td>\n",
              "      <td>23.680994</td>\n",
              "      <td>51197400</td>\n",
              "    </tr>\n",
              "    <tr>\n",
              "      <th>...</th>\n",
              "      <td>...</td>\n",
              "      <td>...</td>\n",
              "      <td>...</td>\n",
              "      <td>...</td>\n",
              "      <td>...</td>\n",
              "      <td>...</td>\n",
              "      <td>...</td>\n",
              "    </tr>\n",
              "    <tr>\n",
              "      <th>3022</th>\n",
              "      <td>2022-01-04</td>\n",
              "      <td>334.829987</td>\n",
              "      <td>335.200012</td>\n",
              "      <td>326.119995</td>\n",
              "      <td>329.010010</td>\n",
              "      <td>329.010010</td>\n",
              "      <td>32674300</td>\n",
              "    </tr>\n",
              "    <tr>\n",
              "      <th>3023</th>\n",
              "      <td>2022-01-05</td>\n",
              "      <td>325.859985</td>\n",
              "      <td>326.070007</td>\n",
              "      <td>315.980011</td>\n",
              "      <td>316.380005</td>\n",
              "      <td>316.380005</td>\n",
              "      <td>40054300</td>\n",
              "    </tr>\n",
              "    <tr>\n",
              "      <th>3024</th>\n",
              "      <td>2022-01-06</td>\n",
              "      <td>313.149994</td>\n",
              "      <td>318.700012</td>\n",
              "      <td>311.489990</td>\n",
              "      <td>313.880005</td>\n",
              "      <td>313.880005</td>\n",
              "      <td>39646100</td>\n",
              "    </tr>\n",
              "    <tr>\n",
              "      <th>3025</th>\n",
              "      <td>2022-01-07</td>\n",
              "      <td>314.149994</td>\n",
              "      <td>316.500000</td>\n",
              "      <td>310.089996</td>\n",
              "      <td>314.040009</td>\n",
              "      <td>314.040009</td>\n",
              "      <td>32674000</td>\n",
              "    </tr>\n",
              "    <tr>\n",
              "      <th>3026</th>\n",
              "      <td>2022-01-10</td>\n",
              "      <td>309.489990</td>\n",
              "      <td>314.720001</td>\n",
              "      <td>304.690002</td>\n",
              "      <td>314.269989</td>\n",
              "      <td>314.269989</td>\n",
              "      <td>44289500</td>\n",
              "    </tr>\n",
              "  </tbody>\n",
              "</table>\n",
              "<p>3027 rows × 7 columns</p>\n",
              "</div>\n",
              "      <button class=\"colab-df-convert\" onclick=\"convertToInteractive('df-5ac6554d-2e2a-43fa-a2cb-7ddf8c3af900')\"\n",
              "              title=\"Convert this dataframe to an interactive table.\"\n",
              "              style=\"display:none;\">\n",
              "        \n",
              "  <svg xmlns=\"http://www.w3.org/2000/svg\" height=\"24px\"viewBox=\"0 0 24 24\"\n",
              "       width=\"24px\">\n",
              "    <path d=\"M0 0h24v24H0V0z\" fill=\"none\"/>\n",
              "    <path d=\"M18.56 5.44l.94 2.06.94-2.06 2.06-.94-2.06-.94-.94-2.06-.94 2.06-2.06.94zm-11 1L8.5 8.5l.94-2.06 2.06-.94-2.06-.94L8.5 2.5l-.94 2.06-2.06.94zm10 10l.94 2.06.94-2.06 2.06-.94-2.06-.94-.94-2.06-.94 2.06-2.06.94z\"/><path d=\"M17.41 7.96l-1.37-1.37c-.4-.4-.92-.59-1.43-.59-.52 0-1.04.2-1.43.59L10.3 9.45l-7.72 7.72c-.78.78-.78 2.05 0 2.83L4 21.41c.39.39.9.59 1.41.59.51 0 1.02-.2 1.41-.59l7.78-7.78 2.81-2.81c.8-.78.8-2.07 0-2.86zM5.41 20L4 18.59l7.72-7.72 1.47 1.35L5.41 20z\"/>\n",
              "  </svg>\n",
              "      </button>\n",
              "      \n",
              "  <style>\n",
              "    .colab-df-container {\n",
              "      display:flex;\n",
              "      flex-wrap:wrap;\n",
              "      gap: 12px;\n",
              "    }\n",
              "\n",
              "    .colab-df-convert {\n",
              "      background-color: #E8F0FE;\n",
              "      border: none;\n",
              "      border-radius: 50%;\n",
              "      cursor: pointer;\n",
              "      display: none;\n",
              "      fill: #1967D2;\n",
              "      height: 32px;\n",
              "      padding: 0 0 0 0;\n",
              "      width: 32px;\n",
              "    }\n",
              "\n",
              "    .colab-df-convert:hover {\n",
              "      background-color: #E2EBFA;\n",
              "      box-shadow: 0px 1px 2px rgba(60, 64, 67, 0.3), 0px 1px 3px 1px rgba(60, 64, 67, 0.15);\n",
              "      fill: #174EA6;\n",
              "    }\n",
              "\n",
              "    [theme=dark] .colab-df-convert {\n",
              "      background-color: #3B4455;\n",
              "      fill: #D2E3FC;\n",
              "    }\n",
              "\n",
              "    [theme=dark] .colab-df-convert:hover {\n",
              "      background-color: #434B5C;\n",
              "      box-shadow: 0px 1px 3px 1px rgba(0, 0, 0, 0.15);\n",
              "      filter: drop-shadow(0px 1px 2px rgba(0, 0, 0, 0.3));\n",
              "      fill: #FFFFFF;\n",
              "    }\n",
              "  </style>\n",
              "\n",
              "      <script>\n",
              "        const buttonEl =\n",
              "          document.querySelector('#df-5ac6554d-2e2a-43fa-a2cb-7ddf8c3af900 button.colab-df-convert');\n",
              "        buttonEl.style.display =\n",
              "          google.colab.kernel.accessAllowed ? 'block' : 'none';\n",
              "\n",
              "        async function convertToInteractive(key) {\n",
              "          const element = document.querySelector('#df-5ac6554d-2e2a-43fa-a2cb-7ddf8c3af900');\n",
              "          const dataTable =\n",
              "            await google.colab.kernel.invokeFunction('convertToInteractive',\n",
              "                                                     [key], {});\n",
              "          if (!dataTable) return;\n",
              "\n",
              "          const docLinkHtml = 'Like what you see? Visit the ' +\n",
              "            '<a target=\"_blank\" href=https://colab.research.google.com/notebooks/data_table.ipynb>data table notebook</a>'\n",
              "            + ' to learn more about interactive tables.';\n",
              "          element.innerHTML = '';\n",
              "          dataTable['output_type'] = 'display_data';\n",
              "          await google.colab.output.renderOutput(dataTable, element);\n",
              "          const docLink = document.createElement('div');\n",
              "          docLink.innerHTML = docLinkHtml;\n",
              "          element.appendChild(docLink);\n",
              "        }\n",
              "      </script>\n",
              "    </div>\n",
              "  </div>\n",
              "  "
            ],
            "text/plain": [
              "            Date        Open        High  ...       Close   Adj Close    Volume\n",
              "0     2010-01-04   30.620001   31.100000  ...   30.950001   23.904980  38409100\n",
              "1     2010-01-05   30.850000   31.100000  ...   30.959999   23.912703  49749600\n",
              "2     2010-01-06   30.879999   31.080000  ...   30.770000   23.765955  58182400\n",
              "3     2010-01-07   30.629999   30.700001  ...   30.450001   23.518799  50559700\n",
              "4     2010-01-08   30.280001   30.879999  ...   30.660000   23.680994  51197400\n",
              "...          ...         ...         ...  ...         ...         ...       ...\n",
              "3022  2022-01-04  334.829987  335.200012  ...  329.010010  329.010010  32674300\n",
              "3023  2022-01-05  325.859985  326.070007  ...  316.380005  316.380005  40054300\n",
              "3024  2022-01-06  313.149994  318.700012  ...  313.880005  313.880005  39646100\n",
              "3025  2022-01-07  314.149994  316.500000  ...  314.040009  314.040009  32674000\n",
              "3026  2022-01-10  309.489990  314.720001  ...  314.269989  314.269989  44289500\n",
              "\n",
              "[3027 rows x 7 columns]"
            ]
          },
          "metadata": {},
          "execution_count": 49
        }
      ]
    },
    {
      "cell_type": "code",
      "source": [
        "data['highest hight'] = data['High'].rolling(window=10).max()\n",
        "data['lowest low'] = data['Low'].rolling(window=10).min()"
      ],
      "metadata": {
        "id": "qG6j5WXEzgU5"
      },
      "execution_count": null,
      "outputs": []
    },
    {
      "cell_type": "code",
      "source": [
        "data['trigger'] = np.where(data['High']==data['highest hight'],1,np.nan)\n",
        "data['trigger'] = np.where(data['Low']==data['lowest low'],0,data['trigger'])"
      ],
      "metadata": {
        "id": "4D-82wE10IvX"
      },
      "execution_count": null,
      "outputs": []
    },
    {
      "cell_type": "code",
      "source": [
        "data['position'] = data['trigger'].ffill().fillna(-1)\n",
        "data"
      ],
      "metadata": {
        "colab": {
          "base_uri": "https://localhost:8080/",
          "height": 424
        },
        "id": "cGbSYAuo8r4J",
        "outputId": "464458b9-cf7b-4860-fbe8-b1f804dad32e"
      },
      "execution_count": null,
      "outputs": [
        {
          "output_type": "execute_result",
          "data": {
            "text/html": [
              "\n",
              "  <div id=\"df-5ab2fd29-e5dc-44dd-8a11-e0800e81c64d\">\n",
              "    <div class=\"colab-df-container\">\n",
              "      <div>\n",
              "<style scoped>\n",
              "    .dataframe tbody tr th:only-of-type {\n",
              "        vertical-align: middle;\n",
              "    }\n",
              "\n",
              "    .dataframe tbody tr th {\n",
              "        vertical-align: top;\n",
              "    }\n",
              "\n",
              "    .dataframe thead th {\n",
              "        text-align: right;\n",
              "    }\n",
              "</style>\n",
              "<table border=\"1\" class=\"dataframe\">\n",
              "  <thead>\n",
              "    <tr style=\"text-align: right;\">\n",
              "      <th></th>\n",
              "      <th>Date</th>\n",
              "      <th>Open</th>\n",
              "      <th>High</th>\n",
              "      <th>Low</th>\n",
              "      <th>Close</th>\n",
              "      <th>Adj Close</th>\n",
              "      <th>Volume</th>\n",
              "      <th>highest hight</th>\n",
              "      <th>lowest low</th>\n",
              "      <th>trigger</th>\n",
              "      <th>position</th>\n",
              "    </tr>\n",
              "  </thead>\n",
              "  <tbody>\n",
              "    <tr>\n",
              "      <th>0</th>\n",
              "      <td>2010-01-04</td>\n",
              "      <td>30.620001</td>\n",
              "      <td>31.100000</td>\n",
              "      <td>30.590000</td>\n",
              "      <td>30.950001</td>\n",
              "      <td>23.904980</td>\n",
              "      <td>38409100</td>\n",
              "      <td>NaN</td>\n",
              "      <td>NaN</td>\n",
              "      <td>NaN</td>\n",
              "      <td>-1.0</td>\n",
              "    </tr>\n",
              "    <tr>\n",
              "      <th>1</th>\n",
              "      <td>2010-01-05</td>\n",
              "      <td>30.850000</td>\n",
              "      <td>31.100000</td>\n",
              "      <td>30.639999</td>\n",
              "      <td>30.959999</td>\n",
              "      <td>23.912703</td>\n",
              "      <td>49749600</td>\n",
              "      <td>NaN</td>\n",
              "      <td>NaN</td>\n",
              "      <td>NaN</td>\n",
              "      <td>-1.0</td>\n",
              "    </tr>\n",
              "    <tr>\n",
              "      <th>2</th>\n",
              "      <td>2010-01-06</td>\n",
              "      <td>30.879999</td>\n",
              "      <td>31.080000</td>\n",
              "      <td>30.520000</td>\n",
              "      <td>30.770000</td>\n",
              "      <td>23.765955</td>\n",
              "      <td>58182400</td>\n",
              "      <td>NaN</td>\n",
              "      <td>NaN</td>\n",
              "      <td>NaN</td>\n",
              "      <td>-1.0</td>\n",
              "    </tr>\n",
              "    <tr>\n",
              "      <th>3</th>\n",
              "      <td>2010-01-07</td>\n",
              "      <td>30.629999</td>\n",
              "      <td>30.700001</td>\n",
              "      <td>30.190001</td>\n",
              "      <td>30.450001</td>\n",
              "      <td>23.518799</td>\n",
              "      <td>50559700</td>\n",
              "      <td>NaN</td>\n",
              "      <td>NaN</td>\n",
              "      <td>NaN</td>\n",
              "      <td>-1.0</td>\n",
              "    </tr>\n",
              "    <tr>\n",
              "      <th>4</th>\n",
              "      <td>2010-01-08</td>\n",
              "      <td>30.280001</td>\n",
              "      <td>30.879999</td>\n",
              "      <td>30.240000</td>\n",
              "      <td>30.660000</td>\n",
              "      <td>23.680994</td>\n",
              "      <td>51197400</td>\n",
              "      <td>NaN</td>\n",
              "      <td>NaN</td>\n",
              "      <td>NaN</td>\n",
              "      <td>-1.0</td>\n",
              "    </tr>\n",
              "    <tr>\n",
              "      <th>...</th>\n",
              "      <td>...</td>\n",
              "      <td>...</td>\n",
              "      <td>...</td>\n",
              "      <td>...</td>\n",
              "      <td>...</td>\n",
              "      <td>...</td>\n",
              "      <td>...</td>\n",
              "      <td>...</td>\n",
              "      <td>...</td>\n",
              "      <td>...</td>\n",
              "      <td>...</td>\n",
              "    </tr>\n",
              "    <tr>\n",
              "      <th>3022</th>\n",
              "      <td>2022-01-04</td>\n",
              "      <td>334.829987</td>\n",
              "      <td>335.200012</td>\n",
              "      <td>326.119995</td>\n",
              "      <td>329.010010</td>\n",
              "      <td>329.010010</td>\n",
              "      <td>32674300</td>\n",
              "      <td>344.299988</td>\n",
              "      <td>319.799988</td>\n",
              "      <td>NaN</td>\n",
              "      <td>1.0</td>\n",
              "    </tr>\n",
              "    <tr>\n",
              "      <th>3023</th>\n",
              "      <td>2022-01-05</td>\n",
              "      <td>325.859985</td>\n",
              "      <td>326.070007</td>\n",
              "      <td>315.980011</td>\n",
              "      <td>316.380005</td>\n",
              "      <td>316.380005</td>\n",
              "      <td>40054300</td>\n",
              "      <td>344.299988</td>\n",
              "      <td>315.980011</td>\n",
              "      <td>0.0</td>\n",
              "      <td>0.0</td>\n",
              "    </tr>\n",
              "    <tr>\n",
              "      <th>3024</th>\n",
              "      <td>2022-01-06</td>\n",
              "      <td>313.149994</td>\n",
              "      <td>318.700012</td>\n",
              "      <td>311.489990</td>\n",
              "      <td>313.880005</td>\n",
              "      <td>313.880005</td>\n",
              "      <td>39646100</td>\n",
              "      <td>344.299988</td>\n",
              "      <td>311.489990</td>\n",
              "      <td>0.0</td>\n",
              "      <td>0.0</td>\n",
              "    </tr>\n",
              "    <tr>\n",
              "      <th>3025</th>\n",
              "      <td>2022-01-07</td>\n",
              "      <td>314.149994</td>\n",
              "      <td>316.500000</td>\n",
              "      <td>310.089996</td>\n",
              "      <td>314.040009</td>\n",
              "      <td>314.040009</td>\n",
              "      <td>32674000</td>\n",
              "      <td>344.299988</td>\n",
              "      <td>310.089996</td>\n",
              "      <td>0.0</td>\n",
              "      <td>0.0</td>\n",
              "    </tr>\n",
              "    <tr>\n",
              "      <th>3026</th>\n",
              "      <td>2022-01-10</td>\n",
              "      <td>309.489990</td>\n",
              "      <td>314.720001</td>\n",
              "      <td>304.690002</td>\n",
              "      <td>314.269989</td>\n",
              "      <td>314.269989</td>\n",
              "      <td>44289500</td>\n",
              "      <td>344.299988</td>\n",
              "      <td>304.690002</td>\n",
              "      <td>0.0</td>\n",
              "      <td>0.0</td>\n",
              "    </tr>\n",
              "  </tbody>\n",
              "</table>\n",
              "<p>3027 rows × 11 columns</p>\n",
              "</div>\n",
              "      <button class=\"colab-df-convert\" onclick=\"convertToInteractive('df-5ab2fd29-e5dc-44dd-8a11-e0800e81c64d')\"\n",
              "              title=\"Convert this dataframe to an interactive table.\"\n",
              "              style=\"display:none;\">\n",
              "        \n",
              "  <svg xmlns=\"http://www.w3.org/2000/svg\" height=\"24px\"viewBox=\"0 0 24 24\"\n",
              "       width=\"24px\">\n",
              "    <path d=\"M0 0h24v24H0V0z\" fill=\"none\"/>\n",
              "    <path d=\"M18.56 5.44l.94 2.06.94-2.06 2.06-.94-2.06-.94-.94-2.06-.94 2.06-2.06.94zm-11 1L8.5 8.5l.94-2.06 2.06-.94-2.06-.94L8.5 2.5l-.94 2.06-2.06.94zm10 10l.94 2.06.94-2.06 2.06-.94-2.06-.94-.94-2.06-.94 2.06-2.06.94z\"/><path d=\"M17.41 7.96l-1.37-1.37c-.4-.4-.92-.59-1.43-.59-.52 0-1.04.2-1.43.59L10.3 9.45l-7.72 7.72c-.78.78-.78 2.05 0 2.83L4 21.41c.39.39.9.59 1.41.59.51 0 1.02-.2 1.41-.59l7.78-7.78 2.81-2.81c.8-.78.8-2.07 0-2.86zM5.41 20L4 18.59l7.72-7.72 1.47 1.35L5.41 20z\"/>\n",
              "  </svg>\n",
              "      </button>\n",
              "      \n",
              "  <style>\n",
              "    .colab-df-container {\n",
              "      display:flex;\n",
              "      flex-wrap:wrap;\n",
              "      gap: 12px;\n",
              "    }\n",
              "\n",
              "    .colab-df-convert {\n",
              "      background-color: #E8F0FE;\n",
              "      border: none;\n",
              "      border-radius: 50%;\n",
              "      cursor: pointer;\n",
              "      display: none;\n",
              "      fill: #1967D2;\n",
              "      height: 32px;\n",
              "      padding: 0 0 0 0;\n",
              "      width: 32px;\n",
              "    }\n",
              "\n",
              "    .colab-df-convert:hover {\n",
              "      background-color: #E2EBFA;\n",
              "      box-shadow: 0px 1px 2px rgba(60, 64, 67, 0.3), 0px 1px 3px 1px rgba(60, 64, 67, 0.15);\n",
              "      fill: #174EA6;\n",
              "    }\n",
              "\n",
              "    [theme=dark] .colab-df-convert {\n",
              "      background-color: #3B4455;\n",
              "      fill: #D2E3FC;\n",
              "    }\n",
              "\n",
              "    [theme=dark] .colab-df-convert:hover {\n",
              "      background-color: #434B5C;\n",
              "      box-shadow: 0px 1px 3px 1px rgba(0, 0, 0, 0.15);\n",
              "      filter: drop-shadow(0px 1px 2px rgba(0, 0, 0, 0.3));\n",
              "      fill: #FFFFFF;\n",
              "    }\n",
              "  </style>\n",
              "\n",
              "      <script>\n",
              "        const buttonEl =\n",
              "          document.querySelector('#df-5ab2fd29-e5dc-44dd-8a11-e0800e81c64d button.colab-df-convert');\n",
              "        buttonEl.style.display =\n",
              "          google.colab.kernel.accessAllowed ? 'block' : 'none';\n",
              "\n",
              "        async function convertToInteractive(key) {\n",
              "          const element = document.querySelector('#df-5ab2fd29-e5dc-44dd-8a11-e0800e81c64d');\n",
              "          const dataTable =\n",
              "            await google.colab.kernel.invokeFunction('convertToInteractive',\n",
              "                                                     [key], {});\n",
              "          if (!dataTable) return;\n",
              "\n",
              "          const docLinkHtml = 'Like what you see? Visit the ' +\n",
              "            '<a target=\"_blank\" href=https://colab.research.google.com/notebooks/data_table.ipynb>data table notebook</a>'\n",
              "            + ' to learn more about interactive tables.';\n",
              "          element.innerHTML = '';\n",
              "          dataTable['output_type'] = 'display_data';\n",
              "          await google.colab.output.renderOutput(dataTable, element);\n",
              "          const docLink = document.createElement('div');\n",
              "          docLink.innerHTML = docLinkHtml;\n",
              "          element.appendChild(docLink);\n",
              "        }\n",
              "      </script>\n",
              "    </div>\n",
              "  </div>\n",
              "  "
            ],
            "text/plain": [
              "            Date        Open        High  ...  lowest low  trigger  position\n",
              "0     2010-01-04   30.620001   31.100000  ...         NaN      NaN      -1.0\n",
              "1     2010-01-05   30.850000   31.100000  ...         NaN      NaN      -1.0\n",
              "2     2010-01-06   30.879999   31.080000  ...         NaN      NaN      -1.0\n",
              "3     2010-01-07   30.629999   30.700001  ...         NaN      NaN      -1.0\n",
              "4     2010-01-08   30.280001   30.879999  ...         NaN      NaN      -1.0\n",
              "...          ...         ...         ...  ...         ...      ...       ...\n",
              "3022  2022-01-04  334.829987  335.200012  ...  319.799988      NaN       1.0\n",
              "3023  2022-01-05  325.859985  326.070007  ...  315.980011      0.0       0.0\n",
              "3024  2022-01-06  313.149994  318.700012  ...  311.489990      0.0       0.0\n",
              "3025  2022-01-07  314.149994  316.500000  ...  310.089996      0.0       0.0\n",
              "3026  2022-01-10  309.489990  314.720001  ...  304.690002      0.0       0.0\n",
              "\n",
              "[3027 rows x 11 columns]"
            ]
          },
          "metadata": {},
          "execution_count": 52
        }
      ]
    },
    {
      "cell_type": "code",
      "source": [
        "data=data.drop(data.index[[0,1,2,3,4,5,6,7,8,9]])"
      ],
      "metadata": {
        "id": "SmbeSG_dho8d"
      },
      "execution_count": null,
      "outputs": []
    },
    {
      "cell_type": "markdown",
      "source": [
        "# Random Forest Classifier\n"
      ],
      "metadata": {
        "id": "jT9ToKYBDb6R"
      }
    },
    {
      "cell_type": "code",
      "source": [
        "df = data.drop(['Date','Adj Close','Volume','highest hight', 'lowest low', 'trigger'],axis=1)"
      ],
      "metadata": {
        "id": "Y8SG8jsI8yWw"
      },
      "execution_count": null,
      "outputs": []
    },
    {
      "cell_type": "code",
      "source": [
        "df.describe()"
      ],
      "metadata": {
        "colab": {
          "base_uri": "https://localhost:8080/",
          "height": 300
        },
        "id": "VE5Kzte1-OxZ",
        "outputId": "087150d3-ecd2-4477-bb15-cce9e1935952"
      },
      "execution_count": null,
      "outputs": [
        {
          "output_type": "execute_result",
          "data": {
            "text/html": [
              "\n",
              "  <div id=\"df-37d285da-9f03-4bdd-b09d-b78b1a7b8e3e\">\n",
              "    <div class=\"colab-df-container\">\n",
              "      <div>\n",
              "<style scoped>\n",
              "    .dataframe tbody tr th:only-of-type {\n",
              "        vertical-align: middle;\n",
              "    }\n",
              "\n",
              "    .dataframe tbody tr th {\n",
              "        vertical-align: top;\n",
              "    }\n",
              "\n",
              "    .dataframe thead th {\n",
              "        text-align: right;\n",
              "    }\n",
              "</style>\n",
              "<table border=\"1\" class=\"dataframe\">\n",
              "  <thead>\n",
              "    <tr style=\"text-align: right;\">\n",
              "      <th></th>\n",
              "      <th>Open</th>\n",
              "      <th>High</th>\n",
              "      <th>Low</th>\n",
              "      <th>Close</th>\n",
              "      <th>position</th>\n",
              "    </tr>\n",
              "  </thead>\n",
              "  <tbody>\n",
              "    <tr>\n",
              "      <th>count</th>\n",
              "      <td>3017.000000</td>\n",
              "      <td>3017.000000</td>\n",
              "      <td>3017.000000</td>\n",
              "      <td>3017.000000</td>\n",
              "      <td>3017.000000</td>\n",
              "    </tr>\n",
              "    <tr>\n",
              "      <th>mean</th>\n",
              "      <td>86.701531</td>\n",
              "      <td>87.498956</td>\n",
              "      <td>85.879669</td>\n",
              "      <td>86.740232</td>\n",
              "      <td>0.619158</td>\n",
              "    </tr>\n",
              "    <tr>\n",
              "      <th>std</th>\n",
              "      <td>76.911667</td>\n",
              "      <td>77.634559</td>\n",
              "      <td>76.170620</td>\n",
              "      <td>76.959579</td>\n",
              "      <td>0.485674</td>\n",
              "    </tr>\n",
              "    <tr>\n",
              "      <th>min</th>\n",
              "      <td>23.090000</td>\n",
              "      <td>23.320000</td>\n",
              "      <td>22.730000</td>\n",
              "      <td>23.010000</td>\n",
              "      <td>0.000000</td>\n",
              "    </tr>\n",
              "    <tr>\n",
              "      <th>25%</th>\n",
              "      <td>30.950001</td>\n",
              "      <td>31.190001</td>\n",
              "      <td>30.680000</td>\n",
              "      <td>30.980000</td>\n",
              "      <td>0.000000</td>\n",
              "    </tr>\n",
              "    <tr>\n",
              "      <th>50%</th>\n",
              "      <td>51.730000</td>\n",
              "      <td>52.130001</td>\n",
              "      <td>51.070000</td>\n",
              "      <td>51.639999</td>\n",
              "      <td>1.000000</td>\n",
              "    </tr>\n",
              "    <tr>\n",
              "      <th>75%</th>\n",
              "      <td>110.889999</td>\n",
              "      <td>111.589996</td>\n",
              "      <td>109.550003</td>\n",
              "      <td>110.970001</td>\n",
              "      <td>1.000000</td>\n",
              "    </tr>\n",
              "    <tr>\n",
              "      <th>max</th>\n",
              "      <td>344.619995</td>\n",
              "      <td>349.670013</td>\n",
              "      <td>342.200012</td>\n",
              "      <td>343.109985</td>\n",
              "      <td>1.000000</td>\n",
              "    </tr>\n",
              "  </tbody>\n",
              "</table>\n",
              "</div>\n",
              "      <button class=\"colab-df-convert\" onclick=\"convertToInteractive('df-37d285da-9f03-4bdd-b09d-b78b1a7b8e3e')\"\n",
              "              title=\"Convert this dataframe to an interactive table.\"\n",
              "              style=\"display:none;\">\n",
              "        \n",
              "  <svg xmlns=\"http://www.w3.org/2000/svg\" height=\"24px\"viewBox=\"0 0 24 24\"\n",
              "       width=\"24px\">\n",
              "    <path d=\"M0 0h24v24H0V0z\" fill=\"none\"/>\n",
              "    <path d=\"M18.56 5.44l.94 2.06.94-2.06 2.06-.94-2.06-.94-.94-2.06-.94 2.06-2.06.94zm-11 1L8.5 8.5l.94-2.06 2.06-.94-2.06-.94L8.5 2.5l-.94 2.06-2.06.94zm10 10l.94 2.06.94-2.06 2.06-.94-2.06-.94-.94-2.06-.94 2.06-2.06.94z\"/><path d=\"M17.41 7.96l-1.37-1.37c-.4-.4-.92-.59-1.43-.59-.52 0-1.04.2-1.43.59L10.3 9.45l-7.72 7.72c-.78.78-.78 2.05 0 2.83L4 21.41c.39.39.9.59 1.41.59.51 0 1.02-.2 1.41-.59l7.78-7.78 2.81-2.81c.8-.78.8-2.07 0-2.86zM5.41 20L4 18.59l7.72-7.72 1.47 1.35L5.41 20z\"/>\n",
              "  </svg>\n",
              "      </button>\n",
              "      \n",
              "  <style>\n",
              "    .colab-df-container {\n",
              "      display:flex;\n",
              "      flex-wrap:wrap;\n",
              "      gap: 12px;\n",
              "    }\n",
              "\n",
              "    .colab-df-convert {\n",
              "      background-color: #E8F0FE;\n",
              "      border: none;\n",
              "      border-radius: 50%;\n",
              "      cursor: pointer;\n",
              "      display: none;\n",
              "      fill: #1967D2;\n",
              "      height: 32px;\n",
              "      padding: 0 0 0 0;\n",
              "      width: 32px;\n",
              "    }\n",
              "\n",
              "    .colab-df-convert:hover {\n",
              "      background-color: #E2EBFA;\n",
              "      box-shadow: 0px 1px 2px rgba(60, 64, 67, 0.3), 0px 1px 3px 1px rgba(60, 64, 67, 0.15);\n",
              "      fill: #174EA6;\n",
              "    }\n",
              "\n",
              "    [theme=dark] .colab-df-convert {\n",
              "      background-color: #3B4455;\n",
              "      fill: #D2E3FC;\n",
              "    }\n",
              "\n",
              "    [theme=dark] .colab-df-convert:hover {\n",
              "      background-color: #434B5C;\n",
              "      box-shadow: 0px 1px 3px 1px rgba(0, 0, 0, 0.15);\n",
              "      filter: drop-shadow(0px 1px 2px rgba(0, 0, 0, 0.3));\n",
              "      fill: #FFFFFF;\n",
              "    }\n",
              "  </style>\n",
              "\n",
              "      <script>\n",
              "        const buttonEl =\n",
              "          document.querySelector('#df-37d285da-9f03-4bdd-b09d-b78b1a7b8e3e button.colab-df-convert');\n",
              "        buttonEl.style.display =\n",
              "          google.colab.kernel.accessAllowed ? 'block' : 'none';\n",
              "\n",
              "        async function convertToInteractive(key) {\n",
              "          const element = document.querySelector('#df-37d285da-9f03-4bdd-b09d-b78b1a7b8e3e');\n",
              "          const dataTable =\n",
              "            await google.colab.kernel.invokeFunction('convertToInteractive',\n",
              "                                                     [key], {});\n",
              "          if (!dataTable) return;\n",
              "\n",
              "          const docLinkHtml = 'Like what you see? Visit the ' +\n",
              "            '<a target=\"_blank\" href=https://colab.research.google.com/notebooks/data_table.ipynb>data table notebook</a>'\n",
              "            + ' to learn more about interactive tables.';\n",
              "          element.innerHTML = '';\n",
              "          dataTable['output_type'] = 'display_data';\n",
              "          await google.colab.output.renderOutput(dataTable, element);\n",
              "          const docLink = document.createElement('div');\n",
              "          docLink.innerHTML = docLinkHtml;\n",
              "          element.appendChild(docLink);\n",
              "        }\n",
              "      </script>\n",
              "    </div>\n",
              "  </div>\n",
              "  "
            ],
            "text/plain": [
              "              Open         High          Low        Close     position\n",
              "count  3017.000000  3017.000000  3017.000000  3017.000000  3017.000000\n",
              "mean     86.701531    87.498956    85.879669    86.740232     0.619158\n",
              "std      76.911667    77.634559    76.170620    76.959579     0.485674\n",
              "min      23.090000    23.320000    22.730000    23.010000     0.000000\n",
              "25%      30.950001    31.190001    30.680000    30.980000     0.000000\n",
              "50%      51.730000    52.130001    51.070000    51.639999     1.000000\n",
              "75%     110.889999   111.589996   109.550003   110.970001     1.000000\n",
              "max     344.619995   349.670013   342.200012   343.109985     1.000000"
            ]
          },
          "metadata": {},
          "execution_count": 33
        }
      ]
    },
    {
      "cell_type": "code",
      "source": [
        "X = df.drop('position',axis=1)"
      ],
      "metadata": {
        "id": "n4qmi52M_zEy"
      },
      "execution_count": null,
      "outputs": []
    },
    {
      "cell_type": "code",
      "source": [
        "y = df['position']"
      ],
      "metadata": {
        "id": "z6aL2R3UVYFI"
      },
      "execution_count": null,
      "outputs": []
    },
    {
      "cell_type": "code",
      "source": [
        "X_train,X_test, y_train,y_test= train_test_split(X,y,test_size=0.20,random_state=101)"
      ],
      "metadata": {
        "id": "bIaaqxiMAA5C"
      },
      "execution_count": null,
      "outputs": []
    },
    {
      "cell_type": "code",
      "source": [
        "modelo = RandomForestClassifier()\n",
        "modelo.fit(X_train,y_train)\n",
        "modelo.score(X_test,y_test)"
      ],
      "metadata": {
        "colab": {
          "base_uri": "https://localhost:8080/"
        },
        "id": "LYwJFX9b2mrd",
        "outputId": "f017a9d7-2621-4815-cfe6-58cb74cb1183"
      },
      "execution_count": null,
      "outputs": [
        {
          "output_type": "execute_result",
          "data": {
            "text/plain": [
              "0.6837748344370861"
            ]
          },
          "metadata": {},
          "execution_count": 37
        }
      ]
    },
    {
      "cell_type": "code",
      "source": [
        "while True:\n",
        "  modelo = RandomForestClassifier()\n",
        "  modelo.fit(X_train,y_train)\n",
        "  print(modelo.score(X_test,y_test))\n",
        "  if modelo.score(X_test,y_test)>0.689:\n",
        "    break\n",
        "modelo.score(X_test,y_test)"
      ],
      "metadata": {
        "id": "8a4ECGmjUaf6"
      },
      "execution_count": null,
      "outputs": []
    },
    {
      "cell_type": "code",
      "source": [
        "pred_modelo = modelo.predict(X_test)\n",
        "print(classification_report(y_test,pred_modelo))\n",
        "plot_confusion_matrix(modelo,X_test,y_test)\n",
        "plt.figure(figsize=(12,8),dpi=150)"
      ],
      "metadata": {
        "colab": {
          "base_uri": "https://localhost:8080/",
          "height": 525
        },
        "id": "gOMh7gr56gJC",
        "outputId": "d320e72f-664e-4fff-c7e5-c318c32bfd54"
      },
      "execution_count": null,
      "outputs": [
        {
          "output_type": "stream",
          "name": "stdout",
          "text": [
            "              precision    recall  f1-score   support\n",
            "\n",
            "         0.0       0.60      0.57      0.58       228\n",
            "         1.0       0.75      0.76      0.76       376\n",
            "\n",
            "    accuracy                           0.69       604\n",
            "   macro avg       0.67      0.67      0.67       604\n",
            "weighted avg       0.69      0.69      0.69       604\n",
            "\n"
          ]
        },
        {
          "output_type": "stream",
          "name": "stderr",
          "text": [
            "/usr/local/lib/python3.7/dist-packages/sklearn/utils/deprecation.py:87: FutureWarning: Function plot_confusion_matrix is deprecated; Function `plot_confusion_matrix` is deprecated in 1.0 and will be removed in 1.2. Use one of the class methods: ConfusionMatrixDisplay.from_predictions or ConfusionMatrixDisplay.from_estimator.\n",
            "  warnings.warn(msg, category=FutureWarning)\n"
          ]
        },
        {
          "output_type": "execute_result",
          "data": {
            "text/plain": [
              "<Figure size 1800x1200 with 0 Axes>"
            ]
          },
          "metadata": {},
          "execution_count": 46
        },
        {
          "output_type": "display_data",
          "data": {
            "image/png": "[encoded data removed]",
            "text/plain": [
              "<Figure size 432x288 with 2 Axes>"
            ]
          },
          "metadata": {
            "needs_background": "light"
          }
        },
        {
          "output_type": "display_data",
          "data": {
            "text/plain": [
              "<Figure size 1800x1200 with 0 Axes>"
            ]
          },
          "metadata": {}
        }
      ]
    },
    {
      "cell_type": "code",
      "source": [
        "rfc_disp = plot_roc_curve(modelo, X_test, y_test, alpha = 0.8)\n",
        "plt.show()"
      ],
      "metadata": {
        "colab": {
          "base_uri": "https://localhost:8080/",
          "height": 334
        },
        "id": "VhrVE8rtfgTX",
        "outputId": "3577b023-6939-4e1e-8170-d42d11ef034c"
      },
      "execution_count": null,
      "outputs": [
        {
          "output_type": "stream",
          "name": "stderr",
          "text": [
            "/usr/local/lib/python3.7/dist-packages/sklearn/utils/deprecation.py:87: FutureWarning: Function plot_roc_curve is deprecated; Function :func:`plot_roc_curve` is deprecated in 1.0 and will be removed in 1.2. Use one of the class methods: :meth:`sklearn.metric.RocCurveDisplay.from_predictions` or :meth:`sklearn.metric.RocCurveDisplay.from_estimator`.\n",
            "  warnings.warn(msg, category=FutureWarning)\n"
          ]
        },
        {
          "output_type": "display_data",
          "data": {
            "image/png": "[encoded data removed]",
            "text/plain": [
              "<Figure size 432x288 with 1 Axes>"
            ]
          },
          "metadata": {
            "needs_background": "light"
          }
        }
      ]
    },
    {
      "cell_type": "code",
      "source": [
        "pkl_filename = \"Microsoft.pkl\"\n",
        "with open(pkl_filename, 'wb') as file:\n",
        "    pickle.dump(modelo, file)"
      ],
      "metadata": {
        "id": "zWCQy0JzBqJr"
      },
      "execution_count": null,
      "outputs": []
    },
    {
      "cell_type": "code",
      "source": [
        "with open(pkl_filename, 'rb') as file:\n",
        "    model = pickle.load(file)"
      ],
      "metadata": {
        "id": "x2_3ws5LUmn5"
      },
      "execution_count": null,
      "outputs": []
    },
    {
      "cell_type": "code",
      "source": [
        "x_in = np.asarray([320.47,320.88,304.00,304.79]).reshape(1,-1)\n",
        "predicts = modelo.predict(x_in)\n",
        "predicts[0]"
      ],
      "metadata": {
        "colab": {
          "base_uri": "https://localhost:8080/"
        },
        "id": "IL53hxRyUof5",
        "outputId": "fdcbdd4a-8950-42cd-fdd0-79f33e74720f"
      },
      "execution_count": null,
      "outputs": [
        {
          "output_type": "stream",
          "name": "stderr",
          "text": [
            "/usr/local/lib/python3.7/dist-packages/sklearn/base.py:451: UserWarning: X does not have valid feature names, but RandomForestClassifier was fitted with feature names\n",
            "  \"X does not have valid feature names, but\"\n"
          ]
        },
        {
          "output_type": "execute_result",
          "data": {
            "text/plain": [
              "0.0"
            ]
          },
          "metadata": {},
          "execution_count": 312
        }
      ]
    },
    {
      "cell_type": "markdown",
      "source": [
        "### Fuentes"
      ],
      "metadata": {
        "id": "P_o5PpFy-uJK"
      }
    },
    {
      "cell_type": "markdown",
      "source": [
        "### https://youtu.be/p_m0UhPubXc\n",
        "### https://youtu.be/ErvHQ5s74FA\n",
        "### https://youtu.be/vibDbEBnyV4\n"
      ],
      "metadata": {
        "id": "d1lcJ_4s-rhI"
      }
    }
  ]
}